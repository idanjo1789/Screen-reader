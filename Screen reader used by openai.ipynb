{
 "cells": [
  {
   "cell_type": "code",
   "execution_count": null,
   "id": "2783c0e3",
   "metadata": {},
   "outputs": [
    {
     "name": "stdout",
     "output_type": "stream",
     "text": [
      "pygame 2.6.1 (SDL 2.28.4, Python 3.11.9)\n",
      "Hello from the pygame community. https://www.pygame.org/contribute.html\n"
     ]
    }
   ],
   "source": [
    "import os, sys, io, base64, logging, time\n",
    "import pyperclip\n",
    "from openai import OpenAI, APIError,APIError\n",
    "from PIL import Image\n",
    "from tkinter import Tk, Canvas\n",
    "import pyautogui, keyboard\n",
    "import pygame\n",
    "import tempfile\n",
    "import uuid\n",
    "from pathlib import Path\n",
    "from playsound import playsound\n",
    "from dotenv import load_dotenv"
   ]
  },
  {
   "cell_type": "code",
   "execution_count": 2,
   "id": "dbc37c32",
   "metadata": {},
   "outputs": [
    {
     "name": "stdout",
     "output_type": "stream",
     "text": [
      "Loaded API key: True\n",
      "Loaded API key length: 164\n"
     ]
    }
   ],
   "source": [
    "logging.basicConfig(level=logging.INFO)\n",
    "logger = logging.getLogger(__name__)\n",
    "load_dotenv()\n",
    "\n",
    "API_KEY = os.getenv(\"OPENAI_API_KEY\")\n",
    "\n",
    "print(\"Loaded API key:\", bool(API_KEY))\n",
    "print(\"Loaded API key length:\", len(API_KEY))\n",
    "\n",
    "if not API_KEY.startswith(\"sk-\"):\n",
    "    logger.error(\"Invalid OPENAI_API_KEY\"); sys.exit(1)\n",
    "client = OpenAI(api_key=API_KEY)\n"
   ]
  },
  {
   "cell_type": "code",
   "execution_count": 3,
   "id": "9d488623",
   "metadata": {},
   "outputs": [],
   "source": [
    "def extract_text_from_image(img: Image.Image) -> str:\n",
    "    buf = io.BytesIO()\n",
    "    img.save(buf, format=\"PNG\")\n",
    "    b64 = base64.b64encode(buf.getvalue()).decode()\n",
    "    messages = [\n",
    "        {\n",
    "            \"role\": \"user\",\n",
    "            \"content\": [\n",
    "                {\"type\": \"text\",      \"text\": \"Extract all text from the image.\"},\n",
    "                {\"type\": \"image_url\", \"image_url\": {\"url\": f\"data:image/png;base64,{b64}\"}}\n",
    "            ]\n",
    "        }\n",
    "    ]\n",
    "    try:\n",
    "        resp = client.chat.completions.create(\n",
    "            model=\"gpt-4o-mini\",\n",
    "            messages=messages\n",
    "        )\n",
    "    except APIError as e:\n",
    "        logger.error(f\"OpenAI API error {e.status_code}: {e}\")\n",
    "        raise\n",
    "    return resp.choices[0].message.content"
   ]
  },
  {
   "cell_type": "code",
   "execution_count": 4,
   "id": "d4daa370",
   "metadata": {},
   "outputs": [],
   "source": [
    "def speak_text(txt: str) -> None:\n",
    "    \"\"\"\n",
    "    ממיר טקסט לדיבור עם OpenAI TTS ומשמיע דרך pygame.\n",
    "    מניח שקיים משתנה גלובלי `client` מאתחל ומוגדר מראש.\n",
    "    בכל קריאה נוצר קובץ ייחודי כדי למנוע נעילות.\n",
    "    \"\"\"\n",
    "    # 1. יצירת דיבור\n",
    "    resp = client.audio.speech.create(\n",
    "        model=\"tts-1\",\n",
    "        voice=\"alloy\",\n",
    "        input=txt\n",
    "    )\n",
    "    audio_bytes = resp.read()\n",
    "\n",
    "    # 2. שמירה זמנית עם שם ייחודי\n",
    "    tmp = Path(tempfile.gettempdir()) / f\"speech_{uuid.uuid4().hex}.mp3\"\n",
    "    tmp.write_bytes(audio_bytes)\n",
    "\n",
    "    # 3. איתחול/עצירת השמעה קודמת\n",
    "    if not pygame.mixer.get_init():\n",
    "        pygame.mixer.init()\n",
    "    else:\n",
    "        pygame.mixer.music.stop()\n",
    "\n",
    "    # 4. טעינה והפעלה\n",
    "    pygame.mixer.music.load(str(tmp))\n",
    "    pygame.mixer.music.play()\n",
    "    while pygame.mixer.music.get_busy():\n",
    "        pygame.time.delay(100)\n",
    "\n",
    "    # 5. (אופציונלי) מחיקת הקובץ אחרי ההשמעה\n",
    "    try:\n",
    "        tmp.unlink()\n",
    "    except:\n",
    "        pass"
   ]
  },
  {
   "cell_type": "code",
   "execution_count": 5,
   "id": "d3dd53bb",
   "metadata": {},
   "outputs": [],
   "source": [
    "def read_selection():\n",
    "    # מעתיק את הטקסט המודגש ללוח\n",
    "    keyboard.press_and_release(\"ctrl+c\")\n",
    "    time.sleep(0.1)  # מעט המתנה להעתקה\n",
    "    text = pyperclip.paste()\n",
    "    if text.strip():\n",
    "        print(\"Reading selection:\\n\", text)\n",
    "        speak_text(text)\n",
    "    else:\n",
    "        print(\"No text found in clipboard.\")"
   ]
  },
  {
   "cell_type": "code",
   "execution_count": 6,
   "id": "839d8bb5",
   "metadata": {},
   "outputs": [],
   "source": [
    "def select_region():\n",
    "    coords = {\"start\": None, \"end\": None}\n",
    "    root = Tk(); root.attributes(\"-fullscreen\", True, \"-alpha\", 0.3, \"-topmost\", True)\n",
    "    canvas = Canvas(root, cursor=\"cross\"); canvas.pack(fill=\"both\", expand=True)\n",
    "\n",
    "    def on_press(e): coords[\"start\"] = (e.x, e.y); canvas.delete(\"rect\")\n",
    "    def on_drag(e):\n",
    "        coords[\"end\"] = (e.x, e.y)\n",
    "        canvas.delete(\"rect\")\n",
    "        x1, y1 = coords[\"start\"]\n",
    "        canvas.create_rectangle(x1, y1, e.x, e.y, outline=\"red\", width=2, tag=\"rect\")\n",
    "    def on_release(e): root.quit()\n",
    "\n",
    "    canvas.bind(\"<ButtonPress-1>\", on_press)\n",
    "    canvas.bind(\"<B1-Motion>\",   on_drag)\n",
    "    canvas.bind(\"<ButtonRelease-1>\", on_release)\n",
    "\n",
    "    root.mainloop(); root.destroy()\n",
    "\n",
    "    if not (coords[\"start\"] and coords[\"end\"]):\n",
    "        logger.info(\"No region selected.\"); return\n",
    "\n",
    "    x1, y1 = map(min, zip(coords[\"start\"], coords[\"end\"]))\n",
    "    x2, y2 = map(max, zip(coords[\"start\"], coords[\"end\"]))\n",
    "    img = pyautogui.screenshot(region=(x1, y1, x2-x1, y2-y1))\n",
    "    img.save(\"capture.png\")\n",
    "    logger.info(f\"Saved capture.png at {(x1,y1,x2,y2)}\")\n",
    "\n",
    "    text = extract_text_from_image(img)\n",
    "    print(\"Extracted text:\\n\", text)\n",
    "    speak_text(text)\n"
   ]
  },
  {
   "cell_type": "code",
   "execution_count": 7,
   "id": "6f81b3d0",
   "metadata": {},
   "outputs": [],
   "source": [
    "running = True\n",
    "def exit_app():\n",
    "    global running\n",
    "    print(\"Exiting…\")\n",
    "    running = False"
   ]
  },
  {
   "cell_type": "code",
   "execution_count": 9,
   "id": "fbac776b",
   "metadata": {},
   "outputs": [
    {
     "name": "stdout",
     "output_type": "stream",
     "text": [
      "Ready:\n",
      "  Ctrl+Alt+Shift+S = select & extract from screen\n",
      "  Ctrl+Alt+Shift+R = read highlighted text\n",
      "  Ctrl+Alt+Shift+Q = quit\n",
      "App stopped.\n"
     ]
    }
   ],
   "source": [
    "running = True\n",
    "keyboard.add_hotkey(\"ctrl+alt+shift+s\", select_region)\n",
    "keyboard.add_hotkey(\"ctrl+alt+shift+r\", read_selection)\n",
    "keyboard.add_hotkey(\"ctrl+alt+shift+q\", exit_app)\n",
    "\n",
    "print(\"Ready:\\n\"\n",
    "    \"  Ctrl+Alt+Shift+S = select & extract from screen\\n\"\n",
    "    \"  Ctrl+Alt+Shift+R = read highlighted text\\n\"\n",
    "    \"  Ctrl+Alt+Shift+Q = quit\")\n",
    "\n",
    "while running:\n",
    "    time.sleep(0.1)\n",
    "\n",
    "print(\"App stopped.\")"
   ]
  }
 ],
 "metadata": {
  "kernelspec": {
   "display_name": "Python 3",
   "language": "python",
   "name": "python3"
  },
  "language_info": {
   "codemirror_mode": {
    "name": "ipython",
    "version": 3
   },
   "file_extension": ".py",
   "mimetype": "text/x-python",
   "name": "python",
   "nbconvert_exporter": "python",
   "pygments_lexer": "ipython3",
   "version": "3.11.9"
  }
 },
 "nbformat": 4,
 "nbformat_minor": 5
}
