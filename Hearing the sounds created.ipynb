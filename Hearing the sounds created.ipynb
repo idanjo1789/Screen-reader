{
 "cells": [
  {
   "cell_type": "code",
   "execution_count": 1,
   "id": "38b5ec61",
   "metadata": {},
   "outputs": [],
   "source": [
    "#!/usr/bin/env python3\n",
    "import os\n",
    "import soundfile as sf\n",
    "import sounddevice as sd\n",
    "VOICES_DIR = \"voices\"\n",
    "\n",
    "def list_wavs():\n",
    "    return sorted(f for f in os.listdir(VOICES_DIR) if f.endswith(\".wav\"))\n",
    "\n",
    "def play_range(start: int, end: int):\n",
    "    wavs = list_wavs()\n",
    "    total = len(wavs)\n",
    "\n",
    "    if start < 1 or end > total or start > end:\n",
    "        print(f\"שגיאה: טווח לא חוקי. יש {total} קבצים.\")\n",
    "        return\n",
    "\n",
    "    selected = wavs[start-1:end]\n",
    "    print(f\"\\n🔊 מנגן קולות {start} עד {end} מתוך {total}:\\n\")\n",
    "\n",
    "    for idx, fn in enumerate(selected, start=start):\n",
    "        path = os.path.join(VOICES_DIR, fn)\n",
    "        print(f\"  • קול {idx}: {fn}\")\n",
    "        data, sr = sf.read(path)\n",
    "        sd.play(data, samplerate=sr, blocking=True)\n",
    "\n",
    "    print(\"\\n✅ סיום השמעה.\")"
   ]
  },
  {
   "cell_type": "code",
   "execution_count": 10,
   "id": "9896b5b6",
   "metadata": {},
   "outputs": [
    {
     "name": "stdout",
     "output_type": "stream",
     "text": [
      "\n",
      "🔊 מנגן קולות 1 עד 11 מתוך 100:\n",
      "\n",
      "  • קול 1: voice_1.wav\n",
      "  • קול 2: voice_10.wav\n",
      "  • קול 3: voice_100.wav\n",
      "  • קול 4: voice_11.wav\n",
      "  • קול 5: voice_12.wav\n",
      "  • קול 6: voice_13.wav\n",
      "  • קול 7: voice_14.wav\n",
      "  • קול 8: voice_15.wav\n",
      "  • קול 9: voice_16.wav\n",
      "  • קול 10: voice_17.wav\n",
      "  • קול 11: voice_18.wav\n",
      "\n",
      "✅ סיום השמעה.\n"
     ]
    }
   ],
   "source": [
    "play_range(1, 11)"
   ]
  },
  {
   "cell_type": "code",
   "execution_count": 3,
   "id": "20cc519d",
   "metadata": {},
   "outputs": [
    {
     "name": "stdout",
     "output_type": "stream",
     "text": [
      "\n",
      "🔊 מנגן קולות 12 עד 21 מתוך 100:\n",
      "\n",
      "  • קול 12: voice_19.wav\n",
      "  • קול 13: voice_2.wav\n",
      "  • קול 14: voice_20.wav\n",
      "  • קול 15: voice_21.wav\n",
      "  • קול 16: voice_22.wav\n",
      "  • קול 17: voice_23.wav\n",
      "  • קול 18: voice_24.wav\n",
      "  • קול 19: voice_25.wav\n",
      "  • קול 20: voice_26.wav\n",
      "  • קול 21: voice_27.wav\n",
      "\n",
      "✅ סיום השמעה.\n"
     ]
    }
   ],
   "source": [
    "play_range(12, 21)"
   ]
  },
  {
   "cell_type": "code",
   "execution_count": 4,
   "id": "423920fc",
   "metadata": {},
   "outputs": [
    {
     "name": "stdout",
     "output_type": "stream",
     "text": [
      "\n",
      "🔊 מנגן קולות 22 עד 31 מתוך 100:\n",
      "\n",
      "  • קול 22: voice_28.wav\n",
      "  • קול 23: voice_29.wav\n",
      "  • קול 24: voice_3.wav\n",
      "  • קול 25: voice_30.wav\n",
      "  • קול 26: voice_31.wav\n",
      "  • קול 27: voice_32.wav\n",
      "  • קול 28: voice_33.wav\n",
      "  • קול 29: voice_34.wav\n",
      "  • קול 30: voice_35.wav\n",
      "  • קול 31: voice_36.wav\n",
      "\n",
      "✅ סיום השמעה.\n"
     ]
    }
   ],
   "source": [
    "play_range(22, 31)"
   ]
  },
  {
   "cell_type": "code",
   "execution_count": 5,
   "id": "2d29d5ad",
   "metadata": {},
   "outputs": [
    {
     "name": "stdout",
     "output_type": "stream",
     "text": [
      "\n",
      "🔊 מנגן קולות 32 עד 41 מתוך 100:\n",
      "\n",
      "  • קול 32: voice_37.wav\n",
      "  • קול 33: voice_38.wav\n",
      "  • קול 34: voice_39.wav\n",
      "  • קול 35: voice_4.wav\n",
      "  • קול 36: voice_40.wav\n",
      "  • קול 37: voice_41.wav\n",
      "  • קול 38: voice_42.wav\n",
      "  • קול 39: voice_43.wav\n",
      "  • קול 40: voice_44.wav\n",
      "  • קול 41: voice_45.wav\n",
      "\n",
      "✅ סיום השמעה.\n"
     ]
    }
   ],
   "source": [
    "play_range(32, 41)"
   ]
  },
  {
   "cell_type": "markdown",
   "id": "f38c6648",
   "metadata": {},
   "source": [
    " קול 34: voice_39.wav \n",
    " זה טוב\n",
    "• קול 41: voice_45.wav"
   ]
  },
  {
   "cell_type": "code",
   "execution_count": 4,
   "id": "721da95c",
   "metadata": {},
   "outputs": [
    {
     "name": "stdout",
     "output_type": "stream",
     "text": [
      "\n",
      "🔊 מנגן קולות 34 עד 34 מתוך 100:\n",
      "\n",
      "  • קול 34: voice_39.wav\n",
      "\n",
      "✅ סיום השמעה.\n"
     ]
    }
   ],
   "source": [
    "play_range(34,34)"
   ]
  },
  {
   "cell_type": "code",
   "execution_count": null,
   "id": "60d7a9e2",
   "metadata": {},
   "outputs": [],
   "source": [
    "play_range(34,34)"
   ]
  },
  {
   "cell_type": "code",
   "execution_count": 13,
   "id": "26db576a",
   "metadata": {},
   "outputs": [
    {
     "name": "stdout",
     "output_type": "stream",
     "text": [
      "\n",
      "🔊 מנגן קולות 41 עד 41 מתוך 100:\n",
      "\n",
      "  • קול 41: voice_45.wav\n",
      "\n",
      "✅ סיום השמעה.\n"
     ]
    }
   ],
   "source": [
    "play_range(41, 41)"
   ]
  },
  {
   "cell_type": "code",
   "execution_count": 5,
   "id": "db7b7a6e",
   "metadata": {},
   "outputs": [
    {
     "name": "stdout",
     "output_type": "stream",
     "text": [
      "\n",
      "🔊 מנגן קולות 52 עד 61 מתוך 100:\n",
      "\n",
      "  • קול 52: voice_55.wav\n",
      "  • קול 53: voice_56.wav\n",
      "  • קול 54: voice_57.wav\n",
      "  • קול 55: voice_58.wav\n",
      "  • קול 56: voice_59.wav\n",
      "  • קול 57: voice_6.wav\n",
      "  • קול 58: voice_60.wav\n",
      "  • קול 59: voice_61.wav\n",
      "  • קול 60: voice_62.wav\n",
      "  • קול 61: voice_63.wav\n",
      "\n",
      "✅ סיום השמעה.\n"
     ]
    }
   ],
   "source": [
    "play_range(52, 61)"
   ]
  },
  {
   "cell_type": "code",
   "execution_count": 6,
   "id": "ee23e782",
   "metadata": {},
   "outputs": [
    {
     "name": "stdout",
     "output_type": "stream",
     "text": [
      "\n",
      "🔊 מנגן קולות 62 עד 71 מתוך 100:\n",
      "\n",
      "  • קול 62: voice_64.wav\n",
      "  • קול 63: voice_65.wav\n",
      "  • קול 64: voice_66.wav\n",
      "  • קול 65: voice_67.wav\n",
      "  • קול 66: voice_68.wav\n",
      "  • קול 67: voice_69.wav\n",
      "  • קול 68: voice_7.wav\n",
      "  • קול 69: voice_70.wav\n",
      "  • קול 70: voice_71.wav\n",
      "  • קול 71: voice_72.wav\n",
      "\n",
      "✅ סיום השמעה.\n"
     ]
    }
   ],
   "source": [
    "play_range(62, 71)"
   ]
  },
  {
   "cell_type": "code",
   "execution_count": 7,
   "id": "7df879b2",
   "metadata": {},
   "outputs": [
    {
     "name": "stdout",
     "output_type": "stream",
     "text": [
      "\n",
      "🔊 מנגן קולות 72 עד 81 מתוך 100:\n",
      "\n",
      "  • קול 72: voice_73.wav\n",
      "  • קול 73: voice_74.wav\n",
      "  • קול 74: voice_75.wav\n",
      "  • קול 75: voice_76.wav\n",
      "  • קול 76: voice_77.wav\n",
      "  • קול 77: voice_78.wav\n",
      "  • קול 78: voice_79.wav\n",
      "  • קול 79: voice_8.wav\n",
      "  • קול 80: voice_80.wav\n",
      "  • קול 81: voice_81.wav\n",
      "\n",
      "✅ סיום השמעה.\n"
     ]
    }
   ],
   "source": [
    "play_range(72, 81)    "
   ]
  },
  {
   "cell_type": "code",
   "execution_count": 8,
   "id": "a0e22cd7",
   "metadata": {},
   "outputs": [
    {
     "name": "stdout",
     "output_type": "stream",
     "text": [
      "\n",
      "🔊 מנגן קולות 82 עד 91 מתוך 100:\n",
      "\n",
      "  • קול 82: voice_82.wav\n",
      "  • קול 83: voice_83.wav\n",
      "  • קול 84: voice_84.wav\n",
      "  • קול 85: voice_85.wav\n",
      "  • קול 86: voice_86.wav\n",
      "  • קול 87: voice_87.wav\n",
      "  • קול 88: voice_88.wav\n",
      "  • קול 89: voice_89.wav\n",
      "  • קול 90: voice_9.wav\n",
      "  • קול 91: voice_90.wav\n",
      "\n",
      "✅ סיום השמעה.\n"
     ]
    }
   ],
   "source": [
    "play_range(82, 91)"
   ]
  },
  {
   "cell_type": "markdown",
   "id": "636a6207",
   "metadata": {},
   "source": [
    " קול 85: voice_85.wav זה טוב "
   ]
  },
  {
   "cell_type": "code",
   "execution_count": 9,
   "id": "129983a1",
   "metadata": {},
   "outputs": [
    {
     "name": "stdout",
     "output_type": "stream",
     "text": [
      "\n",
      "🔊 מנגן קולות 92 עד 100 מתוך 100:\n",
      "\n",
      "  • קול 92: voice_91.wav\n",
      "  • קול 93: voice_92.wav\n",
      "  • קול 94: voice_93.wav\n",
      "  • קול 95: voice_94.wav\n",
      "  • קול 96: voice_95.wav\n",
      "  • קול 97: voice_96.wav\n",
      "  • קול 98: voice_97.wav\n",
      "  • קול 99: voice_98.wav\n",
      "  • קול 100: voice_99.wav\n",
      "\n",
      "✅ סיום השמעה.\n"
     ]
    }
   ],
   "source": [
    "play_range(92, 100)"
   ]
  }
 ],
 "metadata": {
  "kernelspec": {
   "display_name": "Python 3",
   "language": "python",
   "name": "python3"
  },
  "language_info": {
   "codemirror_mode": {
    "name": "ipython",
    "version": 3
   },
   "file_extension": ".py",
   "mimetype": "text/x-python",
   "name": "python",
   "nbconvert_exporter": "python",
   "pygments_lexer": "ipython3",
   "version": "3.11.9"
  }
 },
 "nbformat": 4,
 "nbformat_minor": 5
}
